{
 "cells": [
  {
   "cell_type": "markdown",
   "metadata": {},
   "source": [
    "\n",
    "2A)\n",
    "\n",
    "Implement an logistic discrimination classifier and use the training data to train the classifier.\n",
    "\n",
    "You should use stochastic gradient descent and implement it in Python. Plot the training error as a function of\n",
    "epochs, and report the accuracy on the training set. \n",
    "\n",
    "Try different learning rates for the gradient descent\n",
    "and explain what you observe for these different values. Optional, it may help the learning process if the\n",
    "data is shuffled (songs are fed to the classifier in random order)."
   ]
  },
  {
   "cell_type": "code",
   "execution_count": 116,
   "metadata": {},
   "outputs": [],
   "source": [
    "import numpy as np\n",
    "import matplotlib.pyplot as plt\n",
    "# Load in the arrays from problem-1\n",
    "X_train = np.load('X_train.npy', allow_pickle=True)\n",
    "X_test = np.load('X_test.npy', allow_pickle=True)\n",
    "y_train = np.load('y_train.npy', allow_pickle=True)\n",
    "y_test = np.load('y_test.npy', allow_pickle=True)"
   ]
  },
  {
   "cell_type": "code",
   "execution_count": 126,
   "metadata": {},
   "outputs": [
    {
     "name": "stdout",
     "output_type": "stream",
     "text": [
      "Epoch 1, Loss: 0.5326\n",
      "Epoch 2, Loss: 0.4433\n",
      "Epoch 3, Loss: 0.3879\n",
      "Epoch 4, Loss: 0.3511\n",
      "Epoch 5, Loss: 0.3271\n",
      "Epoch 6, Loss: 0.3092\n",
      "Epoch 7, Loss: 0.2971\n",
      "Epoch 8, Loss: 0.2876\n",
      "Epoch 9, Loss: 0.2799\n",
      "Epoch 10, Loss: 0.2734\n",
      "Epoch 11, Loss: 0.2691\n",
      "Epoch 12, Loss: 0.2651\n",
      "Epoch 13, Loss: 0.2622\n",
      "Epoch 14, Loss: 0.2594\n",
      "Epoch 15, Loss: 0.2571\n",
      "Epoch 16, Loss: 0.2550\n",
      "Epoch 17, Loss: 0.2533\n",
      "Epoch 18, Loss: 0.2527\n",
      "Epoch 19, Loss: 0.2512\n",
      "Epoch 20, Loss: 0.2508\n",
      "Epoch 21, Loss: 0.2498\n",
      "Epoch 22, Loss: 0.2478\n",
      "Epoch 23, Loss: 0.2484\n",
      "Epoch 24, Loss: 0.2464\n",
      "Epoch 25, Loss: 0.2471\n"
     ]
    },
    {
     "data": {
      "image/png": "[encoded data removed]",
      "text/plain": [
       "<Figure size 640x480 with 1 Axes>"
      ]
     },
     "metadata": {},
     "output_type": "display_data"
    }
   ],
   "source": [
    "import numpy as np\n",
    "\n",
    "# this function converts the weighted sum (z) to a probability [0-1]\n",
    "def sigmoid(z):\n",
    "    return 1 / (1 + np.exp(-z))\n",
    "\n",
    "# Compute the cost (loss) for each sample\n",
    "# yi -> The actual label for the sample\n",
    "# y_pred -> the predicted value from the sigmoid function\n",
    "def compute_cost(yi,y_pred):\n",
    "    cost = -(yi * np.log(y_pred)+ (1-yi) * np.log(1- y_pred))\n",
    "    return cost # The loss for the current sample\n",
    " \n",
    "\n",
    " \n",
    "# Function to compute gradients\n",
    "# For bias and weight\n",
    "# Tells how much to adjust Weight and bias to reduce the error\n",
    "def compute_gradients(xi, yi, y_pred ):\n",
    "    error = y_pred - yi\n",
    "    dw = error * xi\n",
    "    db = error\n",
    "    return dw, db\n",
    "\n",
    "# Function to update w and b\n",
    "# dw and db are the gradients computed in the 'compute_gradients' function\n",
    "def update_parameters(w, b, dw, db, learning_rate):\n",
    "    w = w - learning_rate * dw\n",
    "    b = b - learning_rate * db\n",
    "    return w, b # return the new weight and bias\n",
    "    \n",
    "def logistic_regression(X, y, learning_rate=0.001, epochs=25):\n",
    "    # Get the number of samples and features\n",
    "    number_of_samples, number_of_features = X.shape\n",
    "  \n",
    "    # Initialize weights and bias\n",
    "    w = np.zeros(number_of_features) \n",
    "    b = 0\n",
    "    losses = [] \n",
    "  \n",
    "    for epoch in range(epochs):\n",
    "        total_loss = 0\n",
    "        # Variable to keep track of total loss for each iteration over the dataset\n",
    "        # Shuffle the data at the start of each epoch\n",
    "        indices = np.random.permutation(number_of_samples)\n",
    "        X_shuffled = X[indices]\n",
    "        y_shuffled = y[indices]\n",
    "    \n",
    "        # Loop to update the Gradient Descent using SGD\n",
    "        for i in range(number_of_samples):\n",
    "            \n",
    "            xi = X_shuffled[i]  # feature vector for sample i\n",
    "            yi = y_shuffled[i]  # true label for sample i\n",
    "            # Compute the weighted sum (linear combination of features and weights)\n",
    "            z = np.dot(xi, w) + b  # z is the weighted sum for the current sample\n",
    "            # print(f'The sum: {z}')\n",
    "            # Pass the weighted sum to the sigmoid function to get the predicted probability\n",
    "            y_pred = sigmoid(z)\n",
    "            # Compute cost\n",
    "            cost = compute_cost(yi, y_pred)\n",
    "            total_loss += cost\n",
    "            # Compute the gradients\n",
    "            dw, db = compute_gradients(xi, yi, y_pred)\n",
    "            # Update parameters\n",
    "            w, b = update_parameters(w, b, dw, db, learning_rate)\n",
    "       \n",
    "        avg_loss = total_loss / number_of_samples\n",
    "        losses.append(avg_loss) \n",
    "        print(f\"Epoch {epoch + 1}, Loss: {avg_loss:.4f}\")\n",
    "     \n",
    "    return w, b, losses\n",
    "\n",
    "# Train model using the training sets\n",
    "w, b, losses = logistic_regression(X=X_test, y=y_test)\n",
    "\n",
    "\n",
    "\n",
    "plt.plot(range(1, len(losses) + 1), losses)\n",
    "plt.title('Loss over Epochs')\n",
    "plt.xlabel('Epoch')\n",
    "plt.ylabel('Loss')\n",
    "plt.grid(True)\n",
    "plt.show()"
   ]
  },
  {
   "cell_type": "markdown",
   "metadata": {},
   "source": [
    "Testing the accuracy for both training and test sets"
   ]
  },
  {
   "cell_type": "code",
   "execution_count": 118,
   "metadata": {},
   "outputs": [
    {
     "name": "stdout",
     "output_type": "stream",
     "text": [
      "Accuracy: 92.78\n"
     ]
    }
   ],
   "source": [
    "def calculate_accuracy(y, y_pred):\n",
    "    # Convert probabilities to binary predictions (0 or 1)\n",
    "    y_pred_binary = np.where(y_pred >= 0.5, 1, 0)\n",
    "    accuracy = np.sum(y == y_pred_binary) / len(y)\n",
    "    return accuracy\n",
    "\n",
    "y_pred = sigmoid(np.dot(X_train, w) + b)  \n",
    "accuracy = calculate_accuracy(y=y_train, y_pred=y_pred)\n",
    "print(f'Accuracy: {accuracy * 100:.2f}')\n",
    "\n"
   ]
  },
  {
   "cell_type": "markdown",
   "metadata": {},
   "source": [
    "2b)\n",
    "\n",
    "Test your trained logistic discrimination classifier using the test set. Report the accuracy on the test set.\n",
    "\n",
    "Is there a significant difference between the accuracy on the training and test set? If so what might that indicate. "
   ]
  },
  {
   "cell_type": "code",
   "execution_count": 127,
   "metadata": {},
   "outputs": [
    {
     "name": "stdout",
     "output_type": "stream",
     "text": [
      "Accuracy: 92.23%\n"
     ]
    }
   ],
   "source": [
    "\n",
    "y_test_pred = sigmoid(np.dot(X_test, w) + b)\n",
    "test_accuracy = calculate_accuracy(y_test, y_test_pred)\n",
    "print(f\"Accuracy: {test_accuracy * 100:.2f}%\") "
   ]
  },
  {
   "cell_type": "markdown",
   "metadata": {},
   "source": [
    "Problem 3 \\\n",
    "Create a confusion matrix and report result\n"
   ]
  },
  {
   "cell_type": "code",
   "execution_count": 125,
   "metadata": {},
   "outputs": [
    {
     "name": "stdout",
     "output_type": "stream",
     "text": [
      "True negative: 1643\n",
      "False positive: 209\n",
      "False negative: 82\n",
      "True positive: 1796\n"
     ]
    }
   ],
   "source": [
    "from sklearn.metrics import confusion_matrix \n",
    "# Convert the test results to a binary number (0 or 1)\n",
    "# If the predicted probability is greater or equal to 0.5 --> set the value to 1, \n",
    "# --> else set it to 0 \n",
    "y_test_pred_binary = np.where(y_test_pred >= 0.5, 1, 0)\n",
    "\n",
    "# Got this syntax from https://scikit-learn.org\n",
    "tn, fp, fn, tp = confusion_matrix(y_test, y_test_pred_binary).ravel()\n",
    "\n",
    "print(f\"True negative: {tn}\")\n",
    "print(f\"False positive: {fp}\")\n",
    "print(f\"False negative: {fn}\")\n",
    "print(f\"True positive: {tp}\")"
   ]
  },
  {
   "cell_type": "code",
   "execution_count": null,
   "metadata": {},
   "outputs": [],
   "source": []
  }
 ],
 "metadata": {
  "kernelspec": {
   "display_name": "venv",
   "language": "python",
   "name": "python3"
  },
  "language_info": {
   "codemirror_mode": {
    "name": "ipython",
    "version": 3
   },
   "file_extension": ".py",
   "mimetype": "text/x-python",
   "name": "python",
   "nbconvert_exporter": "python",
   "pygments_lexer": "ipython3",
   "version": "3.12.4"
  }
 },
 "nbformat": 4,
 "nbformat_minor": 2
}
